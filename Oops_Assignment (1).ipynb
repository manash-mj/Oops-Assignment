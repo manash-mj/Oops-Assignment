{
  "nbformat": 4,
  "nbformat_minor": 0,
  "metadata": {
    "colab": {
      "provenance": []
    },
    "kernelspec": {
      "name": "python3",
      "display_name": "Python 3"
    },
    "language_info": {
      "name": "python"
    }
  },
  "cells": [
    {
      "cell_type": "markdown",
      "source": [
        "# Pythone oops Questions"
      ],
      "metadata": {
        "id": "xg-rET0d7wla"
      }
    },
    {
      "cell_type": "markdown",
      "source": [
        "1.   What is Object-Oriented Programming (OOP)?\n",
        "\n",
        "  ->  Object-Oriented Programming (OOP) is a way of writing code that uses:\n",
        "\n",
        "1. Objects: Like real-life things (e.g., cars, users).\n",
        "2. Classes: Blueprints for creating objects.\n",
        "3. Properties: Characteristics of objects (e.g., color, name).\n",
        "4. Methods: Actions objects can perform (e.g., drive, login).\n",
        "\n",
        "It helps organize code, make it reusable, and easier to maintain.\n",
        "\n",
        "\n",
        "2.   What is a class in OOP?\n",
        "\n",
        "  -> A class is a blueprint or template that defines the properties and behaviors of an object. It's a collection of:\n",
        "\n",
        "1. Attributes (data): Characteristics of the object (e.g., name, age).\n",
        "2. Methods (functions): Actions the object can perform (e.g., walk, talk).\n",
        "\n",
        "\n",
        "3.   What is an object in OOP?\n",
        "\n",
        "  -> An object is an instance of a class, representing a real-world entity or concept. It has:\n",
        "\n",
        "1. Properties (attributes): Data that describes the object (e.g., name, color).\n",
        "2. Behaviors (methods): Actions the object can perform (e.g., walk, calculate).\n",
        "\n",
        "Characteristics\n",
        "1. Unique identity: Each object has its own set of attributes and state.\n",
        "2. State: The current values of an object's attributes.\n",
        "3. Behavior: The actions an object can perform.\n",
        "\n",
        "\n",
        "4.   What is the difference between abstraction and encapsulation?\n",
        "\n",
        "  ->  Abstraction\n",
        "- Hiding complexity: Showing only essential features, hiding implementation details.\n",
        "- Focus on interface: Defining what an object can do, without specifying how.\n",
        "- Example: A car's accelerator pedal abstracts the complex engine mechanics.\n",
        "\n",
        "Encapsulation\n",
        "- Hiding data: Bundling data with methods that operate on it, controlling access.\n",
        "- Protecting internal state: Preventing direct access to an object's internal data.\n",
        "- Example: A bank account encapsulates balance data, allowing access only through deposit/withdrawal methods.\n",
        "\n",
        "\n",
        "5.   What are dunder methods in Python?\n",
        "\n",
        "  ->  Dunder stands for \"double underscore.\" Dunder methods, also known as magic methods or special methods, are surrounded by double underscores (__) and are used for:\n",
        "\n",
        "1. Operator overloading: Customizing behavior for operators like +, -, *, etc.\n",
        "2. Special operations: Defining behavior for operations like initialization, representation, and comparison.\n",
        "\n",
        "\n",
        "6.   Explain the concept of inheritance in OOP.\n",
        "\n",
        "  -> Inheritance is a mechanism where a new class (the subclass or derived class) inherits the properties and behavior of an existing class (the superclass or base class).\n",
        "\n",
        "Key Benefits\n",
        "1. Code Reusability: Subclasses inherit common attributes and methods from the superclass.\n",
        "2. Hierarchical Relationships: Subclasses can specialize or extend the behavior of the superclass.\n",
        "\n",
        "\n",
        "7.   What is polymorphism in OOP?\n",
        "\n",
        "  ->  Polymorphism is the ability of an object to take on multiple forms, depending on the context. This allows objects of different classes to be treated as objects of a common superclass.\n",
        "\n",
        "\n",
        "8.   How is encapsulation achieved in Python?\n",
        "\n",
        "  ->  Encapsulation means hiding an object's internal details and controlling access to its data.\n",
        "\n",
        "How it's achieved:\n",
        "1. Private variables: Using double underscore (__) to make variables harder to access directly.\n",
        "2. Getter and setter methods: Using @property to control access to data.\n",
        "\n",
        "Benefits\n",
        "1. Protects data: Keeps internal state safe.\n",
        "2. Improves code: Makes code more organized and maintainable.\n",
        "\n",
        "\n",
        "9.   What is a constructor in Python?\n",
        "\n",
        "  ->  A constructor is a special method in a class that is automatically called when an object of that class is created. In Python, the constructor method is defined using __init__.\n",
        "\n",
        "Purpose\n",
        "The constructor is used to:\n",
        "\n",
        "1. Initialize attributes: Set initial values for an object's properties.\n",
        "2. Set up object state: Perform any necessary setup or initialization.\n",
        "\n",
        "\n",
        "10. What are class and static methods in Python?\n",
        "\n",
        "  ->  Class Methods\n",
        "- Belong to the class: Can be called without creating an instance.\n",
        "- *Use @classmethod*: Define a method that works with the class.\n",
        "\n",
        "Static Methods\n",
        "- Just a function inside a class: Doesn't use class or instance data.\n",
        "- *Use @staticmethod*: Define a method that's independent.\n",
        "\n",
        "\n",
        "\n",
        "11.  What is method overloading in Python?\n",
        "\n",
        "  ->  Method overloading is when multiple methods with the same name can be defined, but with different parameters.\n",
        "\n",
        "Python's Approach\n",
        "Python doesn't support traditional method overloading like some other languages. Instead, you can use:\n",
        "\n",
        "1. Default argument values: Provide default values for some parameters.\n",
        "2. Variable arguments: Use *args or **kwargs to handle variable numbers of arguments.\n",
        "\n",
        "\n",
        "\n",
        "12. What is method overriding in OOP?\n",
        "\n",
        "  ->  Method overriding is when a subclass provides a specific implementation of a method that is already defined in its superclass.\n",
        "\n",
        "Purpose\n",
        "- Customize behavior: The subclass can tailor the method to its specific needs.\n",
        "- Polymorphism: Objects of different classes can be treated as objects of a common superclass.\n",
        "\n",
        "\n",
        "13. What is a property decorator in Python?\n",
        "\n",
        "  ->  The @property decorator allows you to:\n",
        "\n",
        "1 . Customize attribute access: Control how attributes are accessed and modified.\n",
        "2 . Implement getters and setters: Define methods that are called when an attribute is accessed or modified.\n",
        "\n",
        "\n",
        "14. Why is polymorphism important in OOP?\n",
        "\n",
        "  ->  Polymorphism is important because it:\n",
        "\n",
        "1 . Increases flexibility: Allows objects of different classes to be treated as objects of a common superclass.\n",
        "2 . Promotes code reusability: Code can work with a variety of data types and objects.\n",
        "3 . Enhances modularity: Makes it easier to add new functionality without modifying existing code.\n",
        "\n",
        "\n",
        "15.  What is an abstract class in Python?\n",
        "\n",
        "  ->  In Python, an abstract class is a class that cannot be instantiated directly and is meant to be a base class for other classes. It defines a common interface for all its subclasses and may contain abstract methods that must be implemented in any subclass.\n",
        "\n",
        "\n",
        "16.  What are the advantages of OOP?\n",
        "\n",
        "  ->  Advantages of OOP\n",
        "1 . Modularity: Breaks down code into smaller, manageable pieces.\n",
        "2 . Reusability: Code can be reused in multiple contexts.\n",
        "3 . Easier maintenance: Changes are more localized.\n",
        "4 . Improved scalability: New features can be added without affecting existing code.\n",
        "5 . Better organization: Code is more structured and organized.\n",
        "\n",
        "\n",
        "17.  What is the difference between a class variable and an instance variable?\n",
        "\n",
        "  ->  1. Class Variable:\n",
        "    - Shared by all instances of the class.\n",
        "    - Defined outside any method.\n",
        "    - Accessed using the class name or instance.\n",
        "\n",
        "2. Instance Variable:\n",
        "    - Unique to each instance of the class.\n",
        "    - Defined inside a method (usually __init__).\n",
        "    - Accessed using the instance.\n",
        "\n",
        "18. What is multiple inheritance in Python?\n",
        "\n",
        "  ->  Multiple inheritance is when a class inherits properties and methods from more than one parent class.\n",
        "\n",
        "19. Explain the purpose of ‘’__str__’ and ‘__repr__’ ‘ methods in Python.\n",
        "\n",
        "  ->  *__str__ and __repr__ Methods*\n",
        "1 . *__str__*: Returns a human-readable string representation of an object, used for display purposes.\n",
        "2 . *__repr__*: Returns a string that represents the object in a way that could be used to recreate it, often used for debugging.\n",
        "\n",
        "\n",
        "20.  What is the significance of the ‘super()’ function in Python?\n",
        "\n",
        "  ->  The super() function is used to:\n",
        "\n",
        "1. Access parent class methods: Call methods from a parent class.\n",
        "2. Override methods: Extend or modify parent class behavior.\n",
        "\n",
        "21. What is the significance of the __del__ method in Python>?\n",
        "\n",
        "  ->  The __del__ method is a special method in Python classes known as a destructor. It is called when an object is about to be destroyed.\n",
        "\n",
        "Purpose\n",
        "1. Resource cleanup: Release resources, such as file handles or network connections, when an object is no longer needed.\n",
        "2. Memory management: Although Python's garbage collector handles memory management, __del__ can be used to perform additional cleanup tasks.\n",
        "\n",
        "\n",
        "22.  What is the difference between @staticmethod and @classmethod in Python?\n",
        "\n",
        "  ->  1. *@staticmethod*:\n",
        "    - Belongs to the class, not the instance.\n",
        "    - Doesn't have access to class or instance variables.\n",
        "    - Used for utility methods that don't depend on the class or instance.\n",
        "\n",
        "\n",
        "2 . *@classmethod*:\n",
        "    - Belongs to the class, not the instance.\n",
        "    - Has access to class variables.\n",
        "    - Used for methods that need to work with the class itself.\n",
        "\n",
        "\n",
        "23. How does polymorphism work in Python with inheritance?\n",
        "\n",
        "  ->  Polymorphism allows objects of different classes to be treated as objects of a common superclass.\n",
        "\n",
        "  1. Method overriding: Subclasses provide their own implementation of a method.\n",
        "\n",
        "2 . Common interface: Objects of different classes can be treated as objects of a common superclass.\n",
        "\n",
        "24. What is method chaining in Python OOP?\n",
        "\n",
        "  ->  Method chaining is a technique where multiple methods are called on the same object in a single statement.\n",
        "\n",
        "25.  What is the purpose of the __call__ method in Python?\n",
        "\n",
        "  ->  The __call__ method lets you treat an object like a function, making it callable. This allows for more flexibility in coding patterns.\n",
        "\n",
        "\n",
        "\n",
        "\n",
        "\n",
        "\n",
        "\n",
        "\n"
      ],
      "metadata": {
        "id": "tU6ZntUS76pd"
      }
    },
    {
      "cell_type": "markdown",
      "source": [
        "# Practical Questions"
      ],
      "metadata": {
        "id": "iRvCp4syePXc"
      }
    },
    {
      "cell_type": "code",
      "source": [
        "# Create a parent class Animal with a method speak() that prints a generic message. Create a child class Dog that overrides the speak() method to print \"Bark!\"\n",
        "\n",
        "class Animal:\n",
        "    def speak(self):\n",
        "        print(\"The animal makes a sound.\")\n",
        "\n",
        "# Child class\n",
        "class Dog(Animal):\n",
        "    def speak(self):\n",
        "        print(\"Bark!\")\n",
        "\n",
        "# Testing the classes\n",
        "a = Animal()\n",
        "a.speak()   # Output: The animal makes a sound.\n",
        "\n",
        "d = Dog()\n",
        "d.speak()   # Output: Bark!"
      ],
      "metadata": {
        "colab": {
          "base_uri": "https://localhost:8080/"
        },
        "id": "OkAW6RT075K0",
        "outputId": "c05d8c2d-acf5-4848-efad-28cb6382730e"
      },
      "execution_count": 3,
      "outputs": [
        {
          "output_type": "stream",
          "name": "stdout",
          "text": [
            "The animal makes a sound.\n",
            "Bark!\n"
          ]
        }
      ]
    },
    {
      "cell_type": "code",
      "source": [
        "# Write a program to create an abstract class Shape with a method area(). Derive classes Circle and Rectangle from it and implement the area() method in both.\n",
        "\n",
        "\n",
        "class Shape(ABC):\n",
        "    @abstractmethod\n",
        "    def area(self):\n",
        "        pass\n",
        "\n",
        "\n",
        "class Circle(Shape):\n",
        "    def __init__(self, radius):\n",
        "        self.radius = radius\n",
        "\n",
        "    def area(self):\n",
        "        return 3.14 * self.radius * self.radius\n",
        "\n",
        "\n",
        "class Rectangle(Shape):\n",
        "    def __init__(self, length, width):\n",
        "        self.length = length\n",
        "        self.width = width\n",
        "\n",
        "    def area(self):\n",
        "        return self.length * self.width\n",
        "\n",
        "\n",
        "circle = Circle(5)\n",
        "print(f\"Area of Circle: {circle.area()}\")\n",
        "\n",
        "rectangle = Rectangle(4, 6)\n",
        "print(f\"Area of Rectangle: {rectangle.area()}\")\n"
      ],
      "metadata": {
        "colab": {
          "base_uri": "https://localhost:8080/"
        },
        "id": "ewPFfK4rg-2r",
        "outputId": "09ea5efb-e458-4614-83d1-1ed5cc291c5a"
      },
      "execution_count": 6,
      "outputs": [
        {
          "output_type": "stream",
          "name": "stdout",
          "text": [
            "Area of Circle: 78.5\n",
            "Area of Rectangle: 24\n"
          ]
        }
      ]
    },
    {
      "cell_type": "code",
      "source": [
        "# Implement a multi-level inheritance scenario where a class Vehicle has an attribute type. Derive a class Car and further derive a class ElectricCar that adds a battery attribute.\n",
        "\n",
        "class Vehicle:\n",
        "    def __init__(self, vehicle_type):\n",
        "        self.type = vehicle_type\n",
        "\n",
        "    def display_type(self):\n",
        "        print(f\"Vehicle type: {self.type}\")\n",
        "\n",
        "# Intermediate class inheriting from Vehicle\n",
        "class Car(Vehicle):\n",
        "    def __init__(self, vehicle_type, model):\n",
        "        super().__init__(vehicle_type)\n",
        "        self.model = model\n",
        "\n",
        "    def display_model(self):\n",
        "        print(f\"Car model: {self.model}\")\n",
        "\n",
        "# Child class inheriting from Car\n",
        "class ElectricCar(Car):\n",
        "    def __init__(self, vehicle_type, model, battery_capacity):\n",
        "        super().__init__(vehicle_type, model)\n",
        "        self.battery_capacity = battery_capacity\n",
        "\n",
        "    def display_battery(self):\n",
        "        print(f\"Battery capacity: {self.battery_capacity} kWh\")\n",
        "\n",
        "# Example usage:\n",
        "vehicle = Vehicle(\"General Transport\")\n",
        "vehicle.display_type()\n",
        "\n",
        "car = Car(\"Sedan\", \"Toyota Camry\")\n",
        "car.display_type()\n",
        "car.display_model()\n",
        "\n",
        "electric_car = ElectricCar(\"Electric Sedan\", \"Tesla Model S\", 100)\n",
        "electric_car.display_type()\n",
        "electric_car.display_model()\n",
        "electric_car.display_battery()\n"
      ],
      "metadata": {
        "colab": {
          "base_uri": "https://localhost:8080/"
        },
        "id": "8NOnNRzph0AM",
        "outputId": "6bd6a62e-c96b-454e-c380-6be11b567055"
      },
      "execution_count": 8,
      "outputs": [
        {
          "output_type": "stream",
          "name": "stdout",
          "text": [
            "Vehicle type: General Transport\n",
            "Vehicle type: Sedan\n",
            "Car model: Toyota Camry\n",
            "Vehicle type: Electric Sedan\n",
            "Car model: Tesla Model S\n",
            "Battery capacity: 100 kWh\n"
          ]
        }
      ]
    },
    {
      "cell_type": "code",
      "source": [
        "# Demonstrate polymorphism by creating a base class Bird with a method fly(). Create two derived classes Sparrow and Penguin that override the fly() method.\n",
        "\n",
        "# Base class\n",
        "class Bird:\n",
        "    def fly(self):\n",
        "        print(\"Birds can fly.\")\n",
        "\n",
        "# Derived class 1\n",
        "class Sparrow(Bird):\n",
        "    def fly(self):\n",
        "        print(\"Sparrows can fly!\")\n",
        "\n",
        "# Derived class 2\n",
        "class Penguin(Bird):\n",
        "    def fly(self):\n",
        "        print(\"Penguins cannot fly (they swim instead)!\")\n",
        "\n",
        "# Demonstrate polymorphism\n",
        "birds = [Bird(), Sparrow(), Penguin()]\n",
        "\n",
        "for bird in birds:\n",
        "    bird.fly()"
      ],
      "metadata": {
        "colab": {
          "base_uri": "https://localhost:8080/"
        },
        "id": "NDyJQ39WiQAU",
        "outputId": "aebc5ff7-de3b-48e7-cedb-ce625905487f"
      },
      "execution_count": 13,
      "outputs": [
        {
          "output_type": "stream",
          "name": "stdout",
          "text": [
            "Birds can fly.\n",
            "Sparrows can fly!\n",
            "Penguins cannot fly (they swim instead)!\n"
          ]
        }
      ]
    },
    {
      "cell_type": "code",
      "source": [
        "# Write a program to demonstrate encapsulation by creating a class BankAccount with private attributes balance and methods to deposit, withdraw, and check balance\n",
        "\n",
        "class BankAccount:\n",
        "    def __init__(self, initial_balance=0):\n",
        "        # Private attribute\n",
        "        self.__balance = initial_balance\n",
        "\n",
        "    # Public method to deposit money\n",
        "    def deposit(self, amount):\n",
        "        if amount > 0:\n",
        "            self.__balance += amount\n",
        "            print(f\"Deposited ₹{amount}\")\n",
        "        else:\n",
        "            print(\"Deposit amount must be positive.\")\n",
        "\n",
        "    # Public method to withdraw money\n",
        "    def withdraw(self, amount):\n",
        "        if amount <= self.__balance:\n",
        "            self.__balance -= amount\n",
        "            print(f\"Withdrew ₹{amount}\")\n",
        "        else:\n",
        "            print(\"Insufficient balance.\")\n",
        "\n",
        "    # Public method to check balance\n",
        "    def check_balance(self):\n",
        "        print(f\"Current balance: ₹{self.__balance}\")\n",
        "\n",
        "\n",
        "# Testing the BankAccount class\n",
        "account = BankAccount(1000)  # Initial balance of ₹1000\n",
        "\n",
        "account.check_balance()      # Output: ₹1000\n",
        "account.deposit(500)         # Deposit ₹500\n",
        "account.withdraw(200)        # Withdraw ₹200\n",
        "account.check_balance()      # Output: ₹1300\n"
      ],
      "metadata": {
        "colab": {
          "base_uri": "https://localhost:8080/"
        },
        "id": "MZD1Fe5ekEhk",
        "outputId": "9c9b255e-db0d-4954-f4f5-a9a07be1e6a8"
      },
      "execution_count": null,
      "outputs": [
        {
          "output_type": "stream",
          "name": "stdout",
          "text": [
            "Current balance: ₹1000\n",
            "Deposited ₹500\n",
            "Withdrew ₹200\n",
            "Current balance: ₹1300\n"
          ]
        }
      ]
    },
    {
      "cell_type": "code",
      "source": [
        "# Demonstrate runtime polymorphism using a method play() in a base class Instrument. Derive classes Guitar and Piano that implement their own version of play().\n",
        "\n",
        "# Base class\n",
        "class Instrument:\n",
        "    def play(self):\n",
        "        print(\"Playing an instrument\")\n",
        "\n",
        "# Derived class Guitar\n",
        "class Guitar(Instrument):\n",
        "    def play(self):\n",
        "        print(\"Strumming the guitar\")\n",
        "\n",
        "# Derived class Piano\n",
        "class Piano(Instrument):\n",
        "    def play(self):\n",
        "        print(\"Playing the piano keys\")\n",
        "\n",
        "# Demonstrate runtime polymorphism\n",
        "instruments = [Instrument(), Guitar(), Piano()]\n",
        "\n",
        "for instrument in instruments:\n",
        "    instrument.play()"
      ],
      "metadata": {
        "colab": {
          "base_uri": "https://localhost:8080/"
        },
        "id": "QtRC9tW4lEHD",
        "outputId": "e00231b6-9645-48cc-92b4-e7fcb0fc534a"
      },
      "execution_count": 24,
      "outputs": [
        {
          "output_type": "stream",
          "name": "stdout",
          "text": [
            "Playing an instrument\n",
            "Strumming the guitar\n",
            "Playing the piano keys\n"
          ]
        }
      ]
    },
    {
      "cell_type": "code",
      "source": [
        "#  Create a class MathOperations with a class method add_numbers() to add two numbers and a static method subtract_numbers() to subtract two numbers.\n",
        "\n",
        "class MathOperations:\n",
        "    @classmethod\n",
        "    def add_numbers(cls, num1, num2):\n",
        "        \"\"\"Class method to add two numbers.\"\"\"\n",
        "        print(f\"Using class method to add: {num1} + {num2}\")\n",
        "        return num1 + num2\n",
        "\n",
        "    @staticmethod\n",
        "    def subtract_numbers(num1, num2):\n",
        "        \"\"\"Static method to subtract two numbers.\"\"\"\n",
        "        print(f\"Using static method to subtract: {num1} - {num2}\")\n",
        "        return num1 - num2\n",
        "\n",
        "# Example usage of class method:\n",
        "sum_result = MathOperations.add_numbers(10, 5)\n",
        "print(f\"Sum: {sum_result}\")\n",
        "\n",
        "# Example usage of static method:\n",
        "difference_result = MathOperations.subtract_numbers(10, 5)\n",
        "print(f\"Difference: {difference_result}\")\n",
        "\n",
        "# You can also call class methods on an instance, but it's more common to call them on the class\n",
        "# instance = MathOperations()\n",
        "# sum_result_instance = instance.add_numbers(20, 10)\n",
        "# print(f\"Sum (from instance): {sum_result_instance}\")\n",
        "\n",
        "# You can call static methods on an instance as well\n",
        "# difference_result_instance = instance.subtract_numbers(20, 10)\n",
        "# print(f\"Difference (from instance): {difference_result_instance}\")"
      ],
      "metadata": {
        "colab": {
          "base_uri": "https://localhost:8080/"
        },
        "id": "nxpsFCe4l5Vl",
        "outputId": "0ea8f6a6-aa10-40a8-b0e6-a0c5d5eec637"
      },
      "execution_count": 25,
      "outputs": [
        {
          "output_type": "stream",
          "name": "stdout",
          "text": [
            "Using class method to add: 10 + 5\n",
            "Sum: 15\n",
            "Using static method to subtract: 10 - 5\n",
            "Difference: 5\n"
          ]
        }
      ]
    },
    {
      "cell_type": "code",
      "source": [
        "# Implement a class Person with a class method to count the total number of persons created\n",
        "\n",
        "class Person:\n",
        "    # Class variable to keep track of the number of Person objects created\n",
        "    total_persons = 0\n",
        "\n",
        "    def __init__(self, name):\n",
        "        self.name = name\n",
        "        # Increment the class variable whenever a new Person object is created\n",
        "        Person.total_persons += 1\n",
        "\n",
        "    @classmethod\n",
        "    def get_total_persons(cls):\n",
        "        \"\"\"Class method to get the total number of Person objects created.\"\"\"\n",
        "        return cls.total_persons\n",
        "\n",
        "# Example usage:\n",
        "person1 = Person(\"Alice\")\n",
        "person2 = Person(\"Bob\")\n",
        "person3 = Person(\"Charlie\")\n",
        "\n",
        "print(f\"Total number of persons created: {Person.get_total_persons()}\")\n",
        "\n",
        "# You can also call the class method on an instance, but it's less common for this purpose\n",
        "# print(f\"Total number of persons created (from instance): {person1.get_total_persons()}\")\n"
      ],
      "metadata": {
        "colab": {
          "base_uri": "https://localhost:8080/"
        },
        "id": "4hkFuJTYmTLT",
        "outputId": "ead4eb03-645a-4d86-8876-6dc361fa2570"
      },
      "execution_count": 27,
      "outputs": [
        {
          "output_type": "stream",
          "name": "stdout",
          "text": [
            "Total number of persons created: 3\n"
          ]
        }
      ]
    },
    {
      "cell_type": "code",
      "source": [
        "# Write a class Fraction with attributes numerator and denominator. Override the str method to display the fraction as \"numerator/denominator\".\n",
        "\n",
        "class Fraction:\n",
        "    def __init__(self, numerator, denominator):\n",
        "        self.numerator = numerator\n",
        "        self.denominator = denominator\n",
        "\n",
        "    def __str__(self):\n",
        "        \"\"\"Overrides the string representation to display as 'numerator/denominator'.\"\"\"\n",
        "        return f\"{self.numerator}/{self.denominator}\"\n",
        "\n",
        "# Example usage:\n",
        "fraction1 = Fraction(3, 4)\n",
        "print(fraction1)  # This will call the __str__ method\n",
        "\n",
        "fraction2 = Fraction(1, 2)\n",
        "print(fraction2)"
      ],
      "metadata": {
        "colab": {
          "base_uri": "https://localhost:8080/"
        },
        "id": "fG8YEtX9muZu",
        "outputId": "5d221194-cb70-4f8c-fad6-47c9739c5136"
      },
      "execution_count": 29,
      "outputs": [
        {
          "output_type": "stream",
          "name": "stdout",
          "text": [
            "3/4\n",
            "1/2\n"
          ]
        }
      ]
    },
    {
      "cell_type": "code",
      "source": [
        "# Demonstrate operator overloading by creating a class Vector and overriding the add method to add two vectors\n",
        "\n",
        "class Vector:\n",
        "    def __init__(self, x, y):\n",
        "        self.x = x\n",
        "        self.y = y\n",
        "\n",
        "    def __str__(self):\n",
        "        return f\"Vector({self.x}, {self.y})\"\n",
        "\n",
        "    def __add__(self, other):\n",
        "        \"\"\"Overrides the '+' operator for vector addition.\"\"\"\n",
        "        if isinstance(other, Vector):\n",
        "            return Vector(self.x + other.x, self.y + other.y)\n",
        "        else:\n",
        "            raise TypeError(\"Can only add a Vector object to another Vector object\")\n",
        "\n",
        "# Example usage:\n",
        "v1 = Vector(2, 3)\n",
        "v2 = Vector(1, 4)\n",
        "\n",
        "# Using the overloaded '+' operator\n",
        "v3 = v1 + v2\n",
        "print(v3)\n",
        "\n",
        "# Attempting to add a non-Vector object (will raise TypeError)\n",
        "# v4 = v1 + 5\n",
        "\n"
      ],
      "metadata": {
        "colab": {
          "base_uri": "https://localhost:8080/"
        },
        "id": "wOeMWKuHnBLm",
        "outputId": "433e5c3d-7783-4b39-fdaf-36a0bd2c935b"
      },
      "execution_count": 31,
      "outputs": [
        {
          "output_type": "stream",
          "name": "stdout",
          "text": [
            "Vector(3, 7)\n"
          ]
        }
      ]
    },
    {
      "cell_type": "code",
      "source": [
        "#  Create a class Person with attributes name and age. Add a method greet() that prints \"Hello, my name is {name} and I am {age} years old.\"\n",
        "\n",
        "class Person:\n",
        "    def __init__(self, name, age):\n",
        "        self.name = name\n",
        "        self.age = age\n",
        "\n",
        "    def greet(self):\n",
        "        \"\"\"Prints a greeting message with the person's name and age.\"\"\"\n",
        "        print(f\"Hello, my name is {self.name} and I am {self.age} years old.\")\n",
        "\n",
        "# Example usage:\n",
        "person1 = Person(\"Alice\", 30)\n",
        "person1.greet()\n",
        "\n",
        "person2 = Person(\"Bob\", 25)\n",
        "person2.greet()"
      ],
      "metadata": {
        "colab": {
          "base_uri": "https://localhost:8080/"
        },
        "id": "kXBJYtlKnZSn",
        "outputId": "d5f5e745-1e37-4efe-97bf-3773cff89437"
      },
      "execution_count": 33,
      "outputs": [
        {
          "output_type": "stream",
          "name": "stdout",
          "text": [
            "Hello, my name is Alice and I am 30 years old.\n",
            "Hello, my name is Bob and I am 25 years old.\n"
          ]
        }
      ]
    },
    {
      "cell_type": "code",
      "source": [
        "#  Implement a class Student with attributes name and grades. Create a method average_grade() to compute the average of the grades.\n",
        "\n",
        "class Student:\n",
        "    def __init__(self, name, grades):\n",
        "        self.name = name\n",
        "        # grades is expected to be a list of numbers\n",
        "        self.grades = grades\n",
        "\n",
        "    def average_grade(self):\n",
        "        \"\"\"Computes the average of the student's grades.\"\"\"\n",
        "        if not self.grades:\n",
        "            return 0  # Return 0 if there are no grades\n",
        "        return sum(self.grades) / len(self.grades)\n",
        "\n",
        "# Example usage:\n",
        "student1 = Student(\"Alice\", [85, 90, 92, 88])\n",
        "print(f\"{student1.name}'s average grade: {student1.average_grade()}\")\n",
        "\n",
        "student2 = Student(\"Bob\", [78, 82, 75])\n",
        "print(f\"{student2.name}'s average grade: {student2.average_grade()}\")\n",
        "\n",
        "student3 = Student(\"Charlie\", []) # Student with no grades\n",
        "print(f\"{student3.name}'s average grade: {student3.average_grade()}\")"
      ],
      "metadata": {
        "colab": {
          "base_uri": "https://localhost:8080/"
        },
        "id": "1thbWc1Bn2TE",
        "outputId": "9be66264-8a7e-4bad-c360-d5b9d7d50c85"
      },
      "execution_count": 35,
      "outputs": [
        {
          "output_type": "stream",
          "name": "stdout",
          "text": [
            "Alice's average grade: 88.75\n",
            "Bob's average grade: 78.33333333333333\n",
            "Charlie's average grade: 0\n"
          ]
        }
      ]
    },
    {
      "cell_type": "code",
      "source": [
        "#  Create a class Rectangle with methods set_dimensions() to set the dimensions and area() to calculate the area.\n",
        "\n",
        "class Rectangle:\n",
        "    def __init__(self, length=0, width=0):\n",
        "        self.length = length\n",
        "        self.width = width\n",
        "\n",
        "    def set_dimensions(self, length, width):\n",
        "        \"\"\"Sets the length and width of the rectangle.\"\"\"\n",
        "        if length >= 0 and width >= 0:\n",
        "            self.length = length\n",
        "            self.width = width\n",
        "        else:\n",
        "            print(\"Dimensions must be non-negative.\")\n",
        "\n",
        "    def area(self):\n",
        "        \"\"\"Calculates and returns the area of the rectangle.\"\"\"\n",
        "        return self.length * self.width\n",
        "\n",
        "# Example usage:\n",
        "rectangle1 = Rectangle(5, 4)\n",
        "print(f\"Rectangle 1 Area: {rectangle1.area()}\")\n",
        "\n",
        "rectangle2 = Rectangle()\n",
        "rectangle2.set_dimensions(10, 6)\n",
        "print(f\"Rectangle 2 Area: {rectangle2.area()}\")\n",
        "\n",
        "rectangle3 = Rectangle()\n",
        "rectangle3.set_dimensions(-2, 5) # Attempt to set invalid dimensions\n",
        "print(f\"Rectangle 3 Area: {rectangle3.area()}\") # Area will still be 0 from initialization"
      ],
      "metadata": {
        "colab": {
          "base_uri": "https://localhost:8080/"
        },
        "id": "RJxC4xSdoR1p",
        "outputId": "df2978d3-b1e4-4cf8-873c-f313b2937d50"
      },
      "execution_count": 37,
      "outputs": [
        {
          "output_type": "stream",
          "name": "stdout",
          "text": [
            "Rectangle 1 Area: 20\n",
            "Rectangle 2 Area: 60\n",
            "Dimensions must be non-negative.\n",
            "Rectangle 3 Area: 0\n"
          ]
        }
      ]
    },
    {
      "cell_type": "code",
      "source": [
        "# Create a class Employee with a method calculate_salary() that computes the salary based on hours worked and hourly rate. Create a derived class Manager that adds a bonus to the salary\n",
        "\n",
        "# Base class\n",
        "class Employee:\n",
        "    def __init__(self, name, hours_worked, hourly_rate):\n",
        "        self.name = name\n",
        "        self.hours_worked = hours_worked\n",
        "        self.hourly_rate = hourly_rate\n",
        "\n",
        "    def calculate_salary(self):\n",
        "        salary = self.hours_worked * self.hourly_rate\n",
        "        print(f\"{self.name}'s Salary: ₹{salary}\")\n",
        "        return salary\n",
        "\n",
        "# Derived class\n",
        "class Manager(Employee):\n",
        "    def __init__(self, name, hours_worked, hourly_rate, bonus):\n",
        "        super().__init__(name, hours_worked, hourly_rate)\n",
        "        self.bonus = bonus\n",
        "\n",
        "    def calculate_salary(self):\n",
        "        base_salary = super().calculate_salary()\n",
        "        total_salary = base_salary + self.bonus\n",
        "        print(f\"{self.name}'s Total Salary with Bonus: ₹{total_salary}\")\n",
        "        return total_salary\n",
        "\n",
        "# Testing the classes\n",
        "emp = Employee(\"Alice\", 40, 500)\n",
        "emp.calculate_salary()  # Output: ₹20000\n",
        "\n",
        "print(\"---\")\n",
        "\n",
        "mgr = Manager(\"Bob\", 45, 700, 5000)\n",
        "mgr.calculate_salary()  # Output: ₹36750 (31500 + 5000)\n"
      ],
      "metadata": {
        "colab": {
          "base_uri": "https://localhost:8080/"
        },
        "id": "T0mxx29npqY4",
        "outputId": "8ceb5d56-f3bd-4d75-9d7b-6003bc33ed31"
      },
      "execution_count": 40,
      "outputs": [
        {
          "output_type": "stream",
          "name": "stdout",
          "text": [
            "Alice's Salary: ₹20000\n",
            "---\n",
            "Bob's Salary: ₹31500\n",
            "Bob's Total Salary with Bonus: ₹36500\n"
          ]
        },
        {
          "output_type": "execute_result",
          "data": {
            "text/plain": [
              "36500"
            ]
          },
          "metadata": {},
          "execution_count": 40
        }
      ]
    },
    {
      "cell_type": "code",
      "source": [
        "#  Create a class Product with attributes name, price, and quantity. Implement a method total_price() that calculates the total price of the product\n",
        "\n",
        "class Product:\n",
        "    def __init__(self, name, price, quantity):\n",
        "        self.name = name\n",
        "        self.price = price\n",
        "        self.quantity = quantity\n",
        "\n",
        "    def total_price(self):\n",
        "        \"\"\"Calculates the total price of the product.\"\"\"\n",
        "        return self.price * self.quantity\n",
        "\n",
        "# Example usage:\n",
        "product1 = Product(\"Laptop\", 1200, 2)\n",
        "print(f\"Total price of {product1.name}: ${product1.total_price()}\")\n",
        "\n",
        "product2 = Product(\"Mouse\", 25, 10)\n",
        "print(f\"Total price of {product2.name}: ${product2.total_price()}\")"
      ],
      "metadata": {
        "colab": {
          "base_uri": "https://localhost:8080/"
        },
        "id": "4t3vYbkeqQXi",
        "outputId": "d54ca49c-3896-4063-bf92-a477ee753f4b"
      },
      "execution_count": 42,
      "outputs": [
        {
          "output_type": "stream",
          "name": "stdout",
          "text": [
            "Total price of Laptop: $2400\n",
            "Total price of Mouse: $250\n"
          ]
        }
      ]
    },
    {
      "cell_type": "code",
      "source": [
        "# Create a class Animal with an abstract method sound(). Create two derived classes Cow and Sheep that implement the sound() method\n",
        "\n",
        "from abc import ABC, abstractmethod\n",
        "\n",
        "# Abstract class\n",
        "class Animal(ABC):\n",
        "    @abstractmethod\n",
        "    def sound(self):\n",
        "        pass\n",
        "\n",
        "# Derived class Cow\n",
        "class Cow(Animal):\n",
        "    def sound(self):\n",
        "        return \"Moo!\"\n",
        "\n",
        "# Derived class Sheep\n",
        "class Sheep(Animal):\n",
        "    def sound(self):\n",
        "        return \"Baa!\"\n",
        "\n",
        "# Example usage:\n",
        "# animal = Animal() # This would raise a TypeError because Animal is abstract\n",
        "\n",
        "cow = Cow()\n",
        "print(f\"Cow says: {cow.sound()}\")\n",
        "\n",
        "sheep = Sheep()\n",
        "print(f\"Sheep says: {sheep.sound()}\")\n",
        "\n",
        "# Demonstrate polymorphism\n",
        "animals = [Cow(), Sheep()]\n",
        "\n",
        "for animal in animals:\n",
        "    print(f\"Animal says: {animal.sound()}\")"
      ],
      "metadata": {
        "colab": {
          "base_uri": "https://localhost:8080/"
        },
        "id": "ZT0NmIDpqkxO",
        "outputId": "259a5ac3-4c5a-4d9a-ba80-8f30f3ef9992"
      },
      "execution_count": 46,
      "outputs": [
        {
          "output_type": "stream",
          "name": "stdout",
          "text": [
            "Cow says: Moo!\n",
            "Sheep says: Baa!\n",
            "Animal says: Moo!\n",
            "Animal says: Baa!\n"
          ]
        }
      ]
    },
    {
      "cell_type": "code",
      "source": [
        "#  Create a class Book with attributes title, author, and year_published. Add a method get_book_info() that returns a formatted string with the book's details\n",
        "\n",
        "class Book:\n",
        "    def __init__(self, title, author, year_published):\n",
        "        self.title = title\n",
        "        self.author = author\n",
        "        self.year_published = year_published\n",
        "\n",
        "    def get_book_info(self):\n",
        "        \"\"\"Returns a formatted string with the book's details.\"\"\"\n",
        "        return f\"Title: {self.title}, Author: {self.author}, Year Published: {self.year_published}\"\n",
        "\n",
        "# Example usage:\n",
        "book1 = Book(\"The Hitchhiker's Guide to the Galaxy\", \"Douglas Adams\", 1979)\n",
        "print(book1.get_book_info())\n",
        "\n",
        "book2 = Book(\"Pride and Prejudice\", \"Jane Austen\", 1813)\n",
        "print(book2.get_book_info())\n"
      ],
      "metadata": {
        "colab": {
          "base_uri": "https://localhost:8080/"
        },
        "id": "Aokfwm3krX3f",
        "outputId": "59bd0a5f-8854-46a9-9012-37242ad0782d"
      },
      "execution_count": 48,
      "outputs": [
        {
          "output_type": "stream",
          "name": "stdout",
          "text": [
            "Title: The Hitchhiker's Guide to the Galaxy, Author: Douglas Adams, Year Published: 1979\n",
            "Title: Pride and Prejudice, Author: Jane Austen, Year Published: 1813\n"
          ]
        }
      ]
    },
    {
      "cell_type": "code",
      "source": [
        "# Create a class House with attributes address and price. Create a derived class Mansion that adds an attribute number_of_rooms.\n",
        "\n",
        "# Base class\n",
        "class House:\n",
        "    def __init__(self, address, price):\n",
        "        self.address = address\n",
        "        self.price = price\n",
        "\n",
        "    def display_info(self):\n",
        "        print(f\"Address: {self.address}\")\n",
        "        print(f\"Price: ₹{self.price}\")\n",
        "\n",
        "# Derived class\n",
        "class Mansion(House):\n",
        "    def __init__(self, address, price, number_of_rooms):\n",
        "        super().__init__(address, price)  # Call parent constructor\n",
        "        self.number_of_rooms = number_of_rooms\n",
        "\n",
        "    def display_info(self):\n",
        "        super().display_info()  # Call parent method\n",
        "        print(f\"Number of Rooms: {self.number_of_rooms}\")\n",
        "\n",
        "# Testing the classes\n",
        "h = House(\"123 Main Street\", 5000000)\n",
        "print(\"House Info:\")\n",
        "h.display_info()\n",
        "\n",
        "print(\"\\nMansion Info:\")\n",
        "m = Mansion(\"1 Royal Avenue\", 20000000, 10)\n",
        "m.display_info()\n"
      ],
      "metadata": {
        "colab": {
          "base_uri": "https://localhost:8080/"
        },
        "id": "QwLUDD6JrtXf",
        "outputId": "9dbb2621-4a68-4041-cc7d-b159eb0f0dfc"
      },
      "execution_count": 50,
      "outputs": [
        {
          "output_type": "stream",
          "name": "stdout",
          "text": [
            "House Info:\n",
            "Address: 123 Main Street\n",
            "Price: ₹5000000\n",
            "\n",
            "Mansion Info:\n",
            "Address: 1 Royal Avenue\n",
            "Price: ₹20000000\n",
            "Number of Rooms: 10\n"
          ]
        }
      ]
    }
  ]
}